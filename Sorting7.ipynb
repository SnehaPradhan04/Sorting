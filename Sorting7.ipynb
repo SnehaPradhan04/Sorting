{
  "nbformat": 4,
  "nbformat_minor": 0,
  "metadata": {
    "colab": {
      "provenance": [],
      "authorship_tag": "ABX9TyNlAosPgAxWhAXZ4ceaDMPZ",
      "include_colab_link": true
    },
    "kernelspec": {
      "name": "python3",
      "display_name": "Python 3"
    },
    "language_info": {
      "name": "python"
    }
  },
  "cells": [
    {
      "cell_type": "markdown",
      "metadata": {
        "id": "view-in-github",
        "colab_type": "text"
      },
      "source": [
        "<a href=\"https://colab.research.google.com/github/SnehaPradhan04/Sorting/blob/main/Sorting7.ipynb\" target=\"_parent\"><img src=\"https://colab.research.google.com/assets/colab-badge.svg\" alt=\"Open In Colab\"/></a>"
      ]
    },
    {
      "cell_type": "code",
      "execution_count": null,
      "metadata": {
        "colab": {
          "base_uri": "https://localhost:8080/"
        },
        "id": "spudzNTCOTVQ",
        "outputId": "d00bee28-1f46-4c72-cea7-e9cfae3172b9"
      },
      "outputs": [
        {
          "output_type": "stream",
          "name": "stdout",
          "text": [
            "Enter the number of elements to be there in array: 4\n",
            "Enter the array elements: 56 7 44 3\n",
            "No elements triplets found.\n"
          ]
        }
      ],
      "source": [
        "# Given an array of n elements . Find three elements i, j, k in the array such that\n",
        "#i * i + j * j = k*k.\n",
        "\n",
        "def find_three_elements(arr):\n",
        "    n = len(arr)\n",
        "    arr.sort()\n",
        "\n",
        "    for k in range(n - 1, 1, -1):\n",
        "        left, right = 0, k - 1\n",
        "\n",
        "        while left < right:\n",
        "            sum_squares = arr[left] * arr[left] + arr[right] * arr[right]\n",
        "\n",
        "            if sum_squares == arr[k] * arr[k]:\n",
        "                return arr[left], arr[right], arr[k]\n",
        "            elif sum_squares < arr[k] * arr[k]:\n",
        "                left += 1\n",
        "            else:\n",
        "                right -= 1\n",
        "\n",
        "    return None\n",
        "\n",
        "try:\n",
        "    n = int(input(\"Enter the number of elements to be there in array: \"))\n",
        "    arr = list(map(int, input(\"Enter the array elements: \").split()))\n",
        "\n",
        "    result = find_three_elements(arr)\n",
        "\n",
        "    if result:\n",
        "        print(f\"Triplet found: {result[0]}, {result[1]}, {result[2]}\")\n",
        "    else:\n",
        "        print(\"No elements triplets found.\")\n",
        "\n",
        "except ValueError:\n",
        "    print(\"Invalid input. Please enter valid integers.\")\n"
      ]
    }
  ]
}