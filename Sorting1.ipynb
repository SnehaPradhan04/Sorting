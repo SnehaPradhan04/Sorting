{
  "nbformat": 4,
  "nbformat_minor": 0,
  "metadata": {
    "colab": {
      "provenance": [],
      "authorship_tag": "ABX9TyNr0UkivacWjKGC+T8Ku+2e",
      "include_colab_link": true
    },
    "kernelspec": {
      "name": "python3",
      "display_name": "Python 3"
    },
    "language_info": {
      "name": "python"
    }
  },
  "cells": [
    {
      "cell_type": "markdown",
      "metadata": {
        "id": "view-in-github",
        "colab_type": "text"
      },
      "source": [
        "<a href=\"https://colab.research.google.com/github/SnehaPradhan04/Sorting/blob/main/Sorting1.ipynb\" target=\"_parent\"><img src=\"https://colab.research.google.com/assets/colab-badge.svg\" alt=\"Open In Colab\"/></a>"
      ]
    },
    {
      "cell_type": "code",
      "execution_count": null,
      "metadata": {
        "colab": {
          "base_uri": "https://localhost:8080/"
        },
        "id": "DuWVdviLZ-8p",
        "outputId": "367e2b1e-2e5c-49d0-d993-84331f29ff9b"
      },
      "outputs": [
        {
          "output_type": "stream",
          "name": "stdout",
          "text": [
            "Enter elements for the array: 2 3 4 4 5 6 5 3 5 8 5 6\n",
            "Element appearing maximum number of times: 5\n"
          ]
        }
      ],
      "source": [
        "#Given an array of size n, write a code which gives the element appearing maximum number of times\n",
        "def find_max_freq_element(arr):\n",
        "    freq_dict = {}\n",
        "\n",
        "    for num in arr:\n",
        "        freq_dict[num] = freq_dict.get(num, 0) + 1\n",
        "\n",
        "    max_freq = 0\n",
        "    max_freq_element = None\n",
        "\n",
        "    for key, value in freq_dict.items():\n",
        "        if value > max_freq:\n",
        "            max_freq = value\n",
        "            max_freq_element = key\n",
        "\n",
        "    return max_freq_element\n",
        "\n",
        "# Take array input from the user\n",
        "user_input = input(\"Enter elements for the array: \")\n",
        "arr = list(map(int, user_input.split()))\n",
        "\n",
        "result = find_max_freq_element(arr)\n",
        "print(\"Element appearing maximum number of times:\", result)\n"
      ]
    }
  ]
}