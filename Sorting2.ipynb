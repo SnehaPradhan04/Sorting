{
  "nbformat": 4,
  "nbformat_minor": 0,
  "metadata": {
    "colab": {
      "provenance": [],
      "authorship_tag": "ABX9TyMvkSZ9PQv/jozwU/euQ9lh",
      "include_colab_link": true
    },
    "kernelspec": {
      "name": "python3",
      "display_name": "Python 3"
    },
    "language_info": {
      "name": "python"
    }
  },
  "cells": [
    {
      "cell_type": "markdown",
      "metadata": {
        "id": "view-in-github",
        "colab_type": "text"
      },
      "source": [
        "<a href=\"https://colab.research.google.com/github/SnehaPradhan04/Sorting/blob/main/Sorting2.ipynb\" target=\"_parent\"><img src=\"https://colab.research.google.com/assets/colab-badge.svg\" alt=\"Open In Colab\"/></a>"
      ]
    },
    {
      "cell_type": "code",
      "execution_count": null,
      "metadata": {
        "colab": {
          "base_uri": "https://localhost:8080/"
        },
        "id": "Jl-aaTEcPXfb",
        "outputId": "568278fb-dd9d-47f0-ded0-b471d6361312"
      },
      "outputs": [
        {
          "output_type": "stream",
          "name": "stdout",
          "text": [
            "enter the elements for array: 1 2 4 6 3 7 8 \n",
            "the missing number is:  5\n"
          ]
        }
      ],
      "source": [
        "# We are given a list of n-1 integers and these integers are in the range of 1 to n.\n",
        "#There are no duplicates in the list. One of the integers is missing in the list.\n",
        "#Give an algorithm to find that element Ex:[1,2,4,6,3,7,8] '5' is the missing number.\n",
        "\n",
        "def find_missing_num(arr, n):\n",
        "    expected_sum = n * (n + 1) // 2\n",
        "    actual_sum = sum(arr)\n",
        "    missing_num = expected_sum - actual_sum\n",
        "    return missing_num\n",
        "\n",
        "user_input = input(\"enter the elements for array: \")\n",
        "arr = list(map(int, user_input.split()))\n",
        "\n",
        "n = len(arr) + 1\n",
        "\n",
        "result = find_missing_num(arr, n)\n",
        "print(\"the missing number is: \", result)\n"
      ]
    }
  ]
}