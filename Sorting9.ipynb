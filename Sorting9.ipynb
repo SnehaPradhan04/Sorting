{
  "nbformat": 4,
  "nbformat_minor": 0,
  "metadata": {
    "colab": {
      "provenance": [],
      "authorship_tag": "ABX9TyPeIpWOzlb5wIb0Zh2n1ytG",
      "include_colab_link": true
    },
    "kernelspec": {
      "name": "python3",
      "display_name": "Python 3"
    },
    "language_info": {
      "name": "python"
    }
  },
  "cells": [
    {
      "cell_type": "markdown",
      "metadata": {
        "id": "view-in-github",
        "colab_type": "text"
      },
      "source": [
        "<a href=\"https://colab.research.google.com/github/SnehaPradhan04/Sorting/blob/main/Sorting9.ipynb\" target=\"_parent\"><img src=\"https://colab.research.google.com/assets/colab-badge.svg\" alt=\"Open In Colab\"/></a>"
      ]
    },
    {
      "cell_type": "code",
      "execution_count": 2,
      "metadata": {
        "colab": {
          "base_uri": "https://localhost:8080/"
        },
        "id": "HrBrTlKQPBHX",
        "outputId": "444861dd-0c2f-43a2-d1c5-f22bc962a07b"
      },
      "outputs": [
        {
          "output_type": "stream",
          "name": "stdout",
          "text": [
            "Enter the size of the matrix (n): 3\n",
            "Enter row 1 (space-separated 0's and 1's): 3 4 0\n",
            "Enter row 2 (space-separated 0's and 1's): 0 0 2\n",
            "Enter row 3 (space-separated 0's and 1's): 4 5 6\n",
            "The row with the maximum number of 0's is: 2.\n"
          ]
        }
      ],
      "source": [
        "#Given n × n matrix, and in each row all 1’s are followed by 0’s.\n",
        "#Find the row with the maximum number of 0’s\n",
        "\n",
        "def find_max_zeros_row(matrix):\n",
        "    max_zeros_row = -1\n",
        "    max_zeros_count = -1\n",
        "\n",
        "    for i, row in enumerate(matrix):\n",
        "        zeros_count = row.count(0)\n",
        "        if zeros_count > max_zeros_count:\n",
        "            max_zeros_count = zeros_count\n",
        "            max_zeros_row = i\n",
        "\n",
        "    return max_zeros_row\n",
        "\n",
        "def main():\n",
        "    n = int(input(\"Enter the size of the matrix (n): \"))\n",
        "\n",
        "    matrix = []\n",
        "    for i in range(n):\n",
        "        row = list(map(int, input(f\"Enter row {i + 1} (space-separated 0's and 1's): \").split()))\n",
        "        matrix.append(row)\n",
        "\n",
        "    max_zeros_row = find_max_zeros_row(matrix)\n",
        "\n",
        "    print(f\"The row with the maximum number of 0's is: {max_zeros_row + 1}.\")\n",
        "\n",
        "if __name__ == \"__main__\":\n",
        "    main()\n"
      ]
    }
  ]
}