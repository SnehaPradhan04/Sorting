{
  "nbformat": 4,
  "nbformat_minor": 0,
  "metadata": {
    "colab": {
      "provenance": [],
      "authorship_tag": "ABX9TyONjlUTtVYMlAifxTjtQC3L",
      "include_colab_link": true
    },
    "kernelspec": {
      "name": "python3",
      "display_name": "Python 3"
    },
    "language_info": {
      "name": "python"
    }
  },
  "cells": [
    {
      "cell_type": "markdown",
      "metadata": {
        "id": "view-in-github",
        "colab_type": "text"
      },
      "source": [
        "<a href=\"https://colab.research.google.com/github/SnehaPradhan04/Sorting/blob/main/Sorting3.ipynb\" target=\"_parent\"><img src=\"https://colab.research.google.com/assets/colab-badge.svg\" alt=\"Open In Colab\"/></a>"
      ]
    },
    {
      "cell_type": "code",
      "execution_count": 4,
      "metadata": {
        "colab": {
          "base_uri": "https://localhost:8080/"
        },
        "id": "zzRV-BgvntLD",
        "outputId": "cd872427-0cb5-4d98-e164-24aa506d611a"
      },
      "outputs": [
        {
          "output_type": "stream",
          "name": "stdout",
          "text": [
            "Enter the elements for array: 1 1 5 6 6 4 4 \n",
            "The no. occurring odd number of times is:  5\n"
          ]
        }
      ],
      "source": [
        "def find_odd_occurrence(arr):\n",
        "    result = 0\n",
        "    for num in arr:\n",
        "        result ^= num\n",
        "    return result\n",
        "\n",
        "user_input = input(\"Enter the elements for array: \")\n",
        "arr = list(map(int, user_input.split()))\n",
        "\n",
        "result = find_odd_occurrence(arr)\n",
        "print(\"The no. occurring odd number of times is: \", result)\n"
      ]
    }
  ]
}