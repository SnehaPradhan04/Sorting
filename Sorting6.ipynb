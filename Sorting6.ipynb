{
  "nbformat": 4,
  "nbformat_minor": 0,
  "metadata": {
    "colab": {
      "provenance": [],
      "authorship_tag": "ABX9TyM5GlYAtWjhHpi6ffFEq+br",
      "include_colab_link": true
    },
    "kernelspec": {
      "name": "python3",
      "display_name": "Python 3"
    },
    "language_info": {
      "name": "python"
    }
  },
  "cells": [
    {
      "cell_type": "markdown",
      "metadata": {
        "id": "view-in-github",
        "colab_type": "text"
      },
      "source": [
        "<a href=\"https://colab.research.google.com/github/SnehaPradhan04/Sorting/blob/main/Sorting6.ipynb\" target=\"_parent\"><img src=\"https://colab.research.google.com/assets/colab-badge.svg\" alt=\"Open In Colab\"/></a>"
      ]
    },
    {
      "cell_type": "code",
      "execution_count": 1,
      "metadata": {
        "colab": {
          "base_uri": "https://localhost:8080/"
        },
        "id": "S5GpkfwO-hD2",
        "outputId": "a88af31a-b3f8-4691-d1e2-8c03eb0f6748"
      },
      "outputs": [
        {
          "output_type": "stream",
          "name": "stdout",
          "text": [
            "Enter the number of inputs for the array: 6\n",
            "Enter the array elements: 5 43 21 76 4 1\n",
            "Enter the target sum: 54\n",
            "No triplet found with the given sum.\n"
          ]
        }
      ],
      "source": [
        "# Given an array of n elements . Find three elements such that\n",
        "#their sum is equal to the given number.\n",
        "\n",
        "def triplet_sum(arr, target):\n",
        "    n = len(arr)\n",
        "    arr.sort()\n",
        "\n",
        "    for i in range(n - 2):\n",
        "        left, right = i + 1, n - 1\n",
        "\n",
        "        while left < right:\n",
        "            current_sum = arr[i] + arr[left] + arr[right]\n",
        "\n",
        "            if current_sum == target:\n",
        "                return arr[i], arr[left], arr[right]\n",
        "            elif current_sum < target:\n",
        "                left += 1\n",
        "            else:\n",
        "                right -= 1\n",
        "\n",
        "    return None\n",
        "\n",
        "try:\n",
        "    n = int(input(\"Enter the number of inputs for the array: \"))\n",
        "    arr = list(map(int, input(\"Enter the array elements: \").split()))\n",
        "    k = int(input(\"Enter the target sum: \"))\n",
        "\n",
        "    result = triplet_sum(arr, k)\n",
        "\n",
        "    if result:\n",
        "        print(f\"Triplet found: {result[0]}, {result[1]}, {result[2]} with sum {k}\")\n",
        "    else:\n",
        "        print(\"No triplet found with the given sum.\")\n",
        "\n",
        "except ValueError:\n",
        "    print(\"Invalid input. Please enter valid integers.\")\n"
      ]
    }
  ]
}