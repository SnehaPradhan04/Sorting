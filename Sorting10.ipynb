{
  "nbformat": 4,
  "nbformat_minor": 0,
  "metadata": {
    "colab": {
      "provenance": [],
      "authorship_tag": "ABX9TyPKZ8ioH89hYa1PTXdOCPWP",
      "include_colab_link": true
    },
    "kernelspec": {
      "name": "python3",
      "display_name": "Python 3"
    },
    "language_info": {
      "name": "python"
    }
  },
  "cells": [
    {
      "cell_type": "markdown",
      "metadata": {
        "id": "view-in-github",
        "colab_type": "text"
      },
      "source": [
        "<a href=\"https://colab.research.google.com/github/SnehaPradhan04/Sorting/blob/main/Sorting10.ipynb\" target=\"_parent\"><img src=\"https://colab.research.google.com/assets/colab-badge.svg\" alt=\"Open In Colab\"/></a>"
      ]
    },
    {
      "cell_type": "code",
      "execution_count": 1,
      "metadata": {
        "colab": {
          "base_uri": "https://localhost:8080/"
        },
        "id": "YDEG4OnTGKNN",
        "outputId": "c8c1ac8e-a47d-42f3-8737-f4eec0c309a5"
      },
      "outputs": [
        {
          "output_type": "stream",
          "name": "stdout",
          "text": [
            "Enter the elements for the array: 0 1 0 2 2 1 1 0 2 0 1\n",
            "Sorted array: [0, 0, 0, 0, 1, 1, 1, 1, 2, 2, 2]\n"
          ]
        }
      ],
      "source": [
        "#Sort an array of 0’s, 1’s and 2’s [or R’s, G’s and B’s]:\n",
        "#Given an array A[] consisting of 0’s, 1’s and\n",
        "#2’s, give an algorithm for sorting A[].\n",
        "#The algorithm should put all 0’s first, then all 1’s and finally all 2’s at the end.\n",
        "#Example Input={0,1,1,0,1,2,1,2,0,0,0,1}, Output={0,0,0,0,0,1,1,1,1,1,2,2}\n",
        "\n",
        "def sort_array(arr):\n",
        "    low = 0\n",
        "    mid = 0\n",
        "    high = len(arr) - 1\n",
        "\n",
        "    while mid <= high:\n",
        "        if arr[mid] == 0:\n",
        "            arr[low], arr[mid] = arr[mid], arr[low]\n",
        "            low += 1\n",
        "            mid += 1\n",
        "        elif arr[mid] == 1:\n",
        "            mid += 1\n",
        "        else:\n",
        "            arr[mid], arr[high] = arr[high], arr[mid]\n",
        "            high -= 1\n",
        "\n",
        "    return arr\n",
        "\n",
        "arr = list(map(int, input(\"Enter the elements for the array: \").split()))\n",
        "\n",
        "sorted_arr = sort_array(arr)\n",
        "print(\"Sorted array:\", sorted_arr)\n"
      ]
    }
  ]
}